{
 "cells": [
  {
   "cell_type": "markdown",
   "metadata": {},
   "source": [
    "Python program that can be used as a math tutor for young students for teaching addition."
   ]
  },
  {
   "cell_type": "code",
   "execution_count": null,
   "metadata": {},
   "outputs": [],
   "source": [
    "import sys\n",
    "import random\n",
    "correct=0\n",
    "def addition():\n",
    "    print(\"*********** Addition of two numbers *************\")\n",
    "    x=random.randint(100,500)\n",
    "    y=random.randint(100,500)\n",
    "    print(\" \",x)\n",
    "    print(\"+\",y)\n",
    "    ans=int(input(\"Enter answer:\"))\n",
    "    global correct\n",
    "    if(x+y==ans):\n",
    "        print(\"!!! Congrats !!! correct answer\\n\")\n",
    "        correct+=1\n",
    "    else:\n",
    "        print(\"Your answer is incorrect\")\n",
    "        print(\"The correct answer is:\",x+y,\"\\n\")\n",
    "try:\n",
    "    for X in range(50):\n",
    "        addition()\n",
    "        order=input(\"Do you want to continue(Y/N):\")\n",
    "        if(order==\"Y\"):\n",
    "            continue\n",
    "        elif(order==\"N\"):\n",
    "            print(\"\\n\")\n",
    "            break\n",
    "        else:\n",
    "            print(\"Invalid input\")\n",
    "            break\n",
    "    print(\"*************** !!! RESULT !!! ******************\")\n",
    "    percent=(correct/(X+1))*100\n",
    "    print(\"Total Questions:\",(X+1))\n",
    "    print(\"Correct Answers:\",correct)\n",
    "    print(\"Percentage of correct answer:\",percent)\n",
    "    \n",
    "                 \n",
    "except ValueError:\n",
    "    print('\\nYou did not enter a integer')\n",
    "    sys.exit(0)\n",
    "    \n",
    "\n"
   ]
  }
 ],
 "metadata": {
  "kernelspec": {
   "display_name": "Python 3",
   "language": "python",
   "name": "python3"
  },
  "language_info": {
   "codemirror_mode": {
    "name": "ipython",
    "version": 3
   },
   "file_extension": ".py",
   "mimetype": "text/x-python",
   "name": "python",
   "nbconvert_exporter": "python",
   "pygments_lexer": "ipython3",
   "version": "3.7.4"
  }
 },
 "nbformat": 4,
 "nbformat_minor": 2
}
