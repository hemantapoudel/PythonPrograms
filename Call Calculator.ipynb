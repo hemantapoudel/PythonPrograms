{
 "cells": [
  {
   "cell_type": "raw",
   "metadata": {},
   "source": [
    "# Create a Python program for a Mobile Phone Call Calculator based on the following tariffs – Peak and OffPeak.\n",
    "        connect Fee     Call Charge per 30 sec\n",
    "Peak       40 c                80 c\n",
    "OffPeak    20 c                40 c\n",
    "\n",
    "Inputs will be \n",
    "(i) Peak or OffPeak tariff, and \n",
    "(ii) Call Duration in Minutes and Seconds.\n",
    "Note: Call duration is rounded off to the next 30 seconds and charged on a per 30-second basis (e.g. a call of duration 4 min 20 sec will be rounded to 4 min 30 sec, and charged as nine (9) 30-second units)."
   ]
  },
  {
   "cell_type": "code",
   "execution_count": null,
   "metadata": {},
   "outputs": [],
   "source": [
    "Call_type=input(\"Enter the call type(peak / offpeak): \")\n",
    "Dur_min=int(input(\"Enter the call duration in minutes: \"))\n",
    "Dur_sec=int(input(\"Enter the call duration in seconds: \"))\n",
    "fee=0\n",
    "Peakconnect_fee=40\n",
    "Offpeakconnect_fee=20\n",
    "if(Call_type==\"peak\"):\n",
    "    for x in range(0,Dur_min):\n",
    "        fee+=160\n",
    "    if(Dur_min==0 and Dur_sec==0):\n",
    "        Peakconnect_fee=0\n",
    "        print(f\"The total cost of the Peak call is {fee+Peakconnect_fee} cents\")\n",
    "    elif(Dur_min<0):\n",
    "        print(\"Check your entry again\")\n",
    "    elif(0<Dur_sec<=30):\n",
    "        fee+=80\n",
    "        print(f\"The total cost of the Peak call is {int((fee+Peakconnect_fee)/100)} Dollar {(fee+Peakconnect_fee)%100} cents\")\n",
    "    elif(30<Dur_sec<=60):\n",
    "        fee+=160\n",
    "        print(f\"The total cost of the Peak call is {int((fee+Peakconnect_fee)/100)} Dollar {(fee+Peakconnect_fee)%100} cents\") \n",
    "    else:\n",
    "        print(\"Check your entry again\")\n",
    "    \n",
    "elif(Call_type==\"offpeak\"):\n",
    "    for x in range(0,Dur_min):\n",
    "        fee+=80\n",
    "    if(Dur_min<0):\n",
    "        print(\"Check your entry again\")\n",
    "    elif(Dur_min==0 and Dur_sec==0):\n",
    "        Offpeakconnect_fee=0\n",
    "        print(f\"The total cost of the Offpeak call is {fee+Offpeakconnect_fee}\")\n",
    "    elif(0<Dur_sec<=30):\n",
    "        fee+=40\n",
    "        print(f\"The total cost of the Offpeak call is {int((fee+Offpeakconnect_fee)/100)} Dollar {(fee+Offpeakconnect_fee)%100} cents\")\n",
    "    elif(30<Dur_sec<=60):\n",
    "        fee+=80\n",
    "        print(f\"The total cost of the Offpeak call is {int((fee+Offpeakconnect_fee)/100)} Dollar {(fee+Offpeakconnect_fee)%100} cents\")\n",
    "    else:\n",
    "        print(\"Check your entry again\")\n",
    "else:\n",
    "    print(\"Invalid entry\")\n"
   ]
  }
 ],
 "metadata": {
  "kernelspec": {
   "display_name": "Python 3",
   "language": "python",
   "name": "python3"
  },
  "language_info": {
   "codemirror_mode": {
    "name": "ipython",
    "version": 3
   },
   "file_extension": ".py",
   "mimetype": "text/x-python",
   "name": "python",
   "nbconvert_exporter": "python",
   "pygments_lexer": "ipython3",
   "version": "3.7.4"
  }
 },
 "nbformat": 4,
 "nbformat_minor": 2
}
